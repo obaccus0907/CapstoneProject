{
 "cells": [
  {
   "cell_type": "code",
   "execution_count": 1,
   "metadata": {},
   "outputs": [],
   "source": [
    "#Importing Pandas and Matplotlib and Seaborn\n",
    "import pandas as pd\n",
    "import matplotlib.pyplot as plt\n",
    "import seaborn as sns \n",
    "import numpy as np\n",
    "import scipy as stats\n",
    "from sklearn.linear_model import LogisticRegression\n",
    "from sklearn.metrics import confusion_matrix, classification_report\n",
    "from sklearn.model_selection import train_test_split\n"
   ]
  },
  {
   "cell_type": "markdown",
   "metadata": {},
   "source": [
    "### Reading in the dataset"
   ]
  },
  {
   "cell_type": "code",
   "execution_count": 2,
   "metadata": {},
   "outputs": [],
   "source": [
    "df= pd.read_csv('Data/dataset_caps.csv')"
   ]
  },
  {
   "cell_type": "markdown",
   "metadata": {},
   "source": [
    "### Studying whether any of the variables are highly correlated with each other"
   ]
  },
  {
   "cell_type": "code",
   "execution_count": 3,
   "metadata": {},
   "outputs": [
    {
     "data": {
      "text/html": [
       "<div>\n",
       "<style scoped>\n",
       "    .dataframe tbody tr th:only-of-type {\n",
       "        vertical-align: middle;\n",
       "    }\n",
       "\n",
       "    .dataframe tbody tr th {\n",
       "        vertical-align: top;\n",
       "    }\n",
       "\n",
       "    .dataframe thead th {\n",
       "        text-align: right;\n",
       "    }\n",
       "</style>\n",
       "<table border=\"1\" class=\"dataframe\">\n",
       "  <thead>\n",
       "    <tr style=\"text-align: right;\">\n",
       "      <th></th>\n",
       "      <th>age</th>\n",
       "      <th>sex</th>\n",
       "      <th>cp</th>\n",
       "      <th>rbp</th>\n",
       "      <th>scl</th>\n",
       "      <th>fbs</th>\n",
       "      <th>rer</th>\n",
       "      <th>mhra</th>\n",
       "      <th>eia</th>\n",
       "      <th>std</th>\n",
       "      <th>new_dhd</th>\n",
       "    </tr>\n",
       "  </thead>\n",
       "  <tbody>\n",
       "    <tr>\n",
       "      <th>age</th>\n",
       "      <td>1.000000</td>\n",
       "      <td>0.058179</td>\n",
       "      <td>0.161971</td>\n",
       "      <td>0.240428</td>\n",
       "      <td>-0.091229</td>\n",
       "      <td>0.232110</td>\n",
       "      <td>0.208795</td>\n",
       "      <td>-0.366697</td>\n",
       "      <td>0.199167</td>\n",
       "      <td>0.254805</td>\n",
       "      <td>0.285509</td>\n",
       "    </tr>\n",
       "    <tr>\n",
       "      <th>sex</th>\n",
       "      <td>0.058179</td>\n",
       "      <td>1.000000</td>\n",
       "      <td>0.174879</td>\n",
       "      <td>0.001371</td>\n",
       "      <td>-0.197801</td>\n",
       "      <td>0.088660</td>\n",
       "      <td>-0.016069</td>\n",
       "      <td>-0.180025</td>\n",
       "      <td>0.182619</td>\n",
       "      <td>0.102933</td>\n",
       "      <td>0.308392</td>\n",
       "    </tr>\n",
       "    <tr>\n",
       "      <th>cp</th>\n",
       "      <td>0.161971</td>\n",
       "      <td>0.174879</td>\n",
       "      <td>1.000000</td>\n",
       "      <td>0.021998</td>\n",
       "      <td>-0.137328</td>\n",
       "      <td>0.046324</td>\n",
       "      <td>0.032497</td>\n",
       "      <td>-0.349508</td>\n",
       "      <td>0.416770</td>\n",
       "      <td>0.247330</td>\n",
       "      <td>0.473443</td>\n",
       "    </tr>\n",
       "    <tr>\n",
       "      <th>rbp</th>\n",
       "      <td>0.240428</td>\n",
       "      <td>0.001371</td>\n",
       "      <td>0.021998</td>\n",
       "      <td>1.000000</td>\n",
       "      <td>0.088187</td>\n",
       "      <td>0.159328</td>\n",
       "      <td>0.096457</td>\n",
       "      <td>-0.106844</td>\n",
       "      <td>0.151641</td>\n",
       "      <td>0.160970</td>\n",
       "      <td>0.109798</td>\n",
       "    </tr>\n",
       "    <tr>\n",
       "      <th>scl</th>\n",
       "      <td>-0.091229</td>\n",
       "      <td>-0.197801</td>\n",
       "      <td>-0.137328</td>\n",
       "      <td>0.088187</td>\n",
       "      <td>1.000000</td>\n",
       "      <td>0.025164</td>\n",
       "      <td>0.115322</td>\n",
       "      <td>0.235477</td>\n",
       "      <td>-0.036194</td>\n",
       "      <td>0.046726</td>\n",
       "      <td>-0.229004</td>\n",
       "    </tr>\n",
       "    <tr>\n",
       "      <th>fbs</th>\n",
       "      <td>0.232110</td>\n",
       "      <td>0.088660</td>\n",
       "      <td>0.046324</td>\n",
       "      <td>0.159328</td>\n",
       "      <td>0.025164</td>\n",
       "      <td>1.000000</td>\n",
       "      <td>0.128377</td>\n",
       "      <td>-0.054908</td>\n",
       "      <td>0.032062</td>\n",
       "      <td>0.052240</td>\n",
       "      <td>0.146087</td>\n",
       "    </tr>\n",
       "    <tr>\n",
       "      <th>rer</th>\n",
       "      <td>0.208795</td>\n",
       "      <td>-0.016069</td>\n",
       "      <td>0.032497</td>\n",
       "      <td>0.096457</td>\n",
       "      <td>0.115322</td>\n",
       "      <td>0.128377</td>\n",
       "      <td>1.000000</td>\n",
       "      <td>0.053739</td>\n",
       "      <td>0.032003</td>\n",
       "      <td>0.114411</td>\n",
       "      <td>0.065612</td>\n",
       "    </tr>\n",
       "    <tr>\n",
       "      <th>mhra</th>\n",
       "      <td>-0.366697</td>\n",
       "      <td>-0.180025</td>\n",
       "      <td>-0.349508</td>\n",
       "      <td>-0.106844</td>\n",
       "      <td>0.235477</td>\n",
       "      <td>-0.054908</td>\n",
       "      <td>0.053739</td>\n",
       "      <td>1.000000</td>\n",
       "      <td>-0.355075</td>\n",
       "      <td>-0.149286</td>\n",
       "      <td>-0.392371</td>\n",
       "    </tr>\n",
       "    <tr>\n",
       "      <th>eia</th>\n",
       "      <td>0.199167</td>\n",
       "      <td>0.182619</td>\n",
       "      <td>0.416770</td>\n",
       "      <td>0.151641</td>\n",
       "      <td>-0.036194</td>\n",
       "      <td>0.032062</td>\n",
       "      <td>0.032003</td>\n",
       "      <td>-0.355075</td>\n",
       "      <td>1.000000</td>\n",
       "      <td>0.392169</td>\n",
       "      <td>0.463133</td>\n",
       "    </tr>\n",
       "    <tr>\n",
       "      <th>std</th>\n",
       "      <td>0.254805</td>\n",
       "      <td>0.102933</td>\n",
       "      <td>0.247330</td>\n",
       "      <td>0.160970</td>\n",
       "      <td>0.046726</td>\n",
       "      <td>0.052240</td>\n",
       "      <td>0.114411</td>\n",
       "      <td>-0.149286</td>\n",
       "      <td>0.392169</td>\n",
       "      <td>1.000000</td>\n",
       "      <td>0.386574</td>\n",
       "    </tr>\n",
       "    <tr>\n",
       "      <th>new_dhd</th>\n",
       "      <td>0.285509</td>\n",
       "      <td>0.308392</td>\n",
       "      <td>0.473443</td>\n",
       "      <td>0.109798</td>\n",
       "      <td>-0.229004</td>\n",
       "      <td>0.146087</td>\n",
       "      <td>0.065612</td>\n",
       "      <td>-0.392371</td>\n",
       "      <td>0.463133</td>\n",
       "      <td>0.386574</td>\n",
       "      <td>1.000000</td>\n",
       "    </tr>\n",
       "  </tbody>\n",
       "</table>\n",
       "</div>"
      ],
      "text/plain": [
       "              age       sex        cp       rbp       scl       fbs       rer  \\\n",
       "age      1.000000  0.058179  0.161971  0.240428 -0.091229  0.232110  0.208795   \n",
       "sex      0.058179  1.000000  0.174879  0.001371 -0.197801  0.088660 -0.016069   \n",
       "cp       0.161971  0.174879  1.000000  0.021998 -0.137328  0.046324  0.032497   \n",
       "rbp      0.240428  0.001371  0.021998  1.000000  0.088187  0.159328  0.096457   \n",
       "scl     -0.091229 -0.197801 -0.137328  0.088187  1.000000  0.025164  0.115322   \n",
       "fbs      0.232110  0.088660  0.046324  0.159328  0.025164  1.000000  0.128377   \n",
       "rer      0.208795 -0.016069  0.032497  0.096457  0.115322  0.128377  1.000000   \n",
       "mhra    -0.366697 -0.180025 -0.349508 -0.106844  0.235477 -0.054908  0.053739   \n",
       "eia      0.199167  0.182619  0.416770  0.151641 -0.036194  0.032062  0.032003   \n",
       "std      0.254805  0.102933  0.247330  0.160970  0.046726  0.052240  0.114411   \n",
       "new_dhd  0.285509  0.308392  0.473443  0.109798 -0.229004  0.146087  0.065612   \n",
       "\n",
       "             mhra       eia       std   new_dhd  \n",
       "age     -0.366697  0.199167  0.254805  0.285509  \n",
       "sex     -0.180025  0.182619  0.102933  0.308392  \n",
       "cp      -0.349508  0.416770  0.247330  0.473443  \n",
       "rbp     -0.106844  0.151641  0.160970  0.109798  \n",
       "scl      0.235477 -0.036194  0.046726 -0.229004  \n",
       "fbs     -0.054908  0.032062  0.052240  0.146087  \n",
       "rer      0.053739  0.032003  0.114411  0.065612  \n",
       "mhra     1.000000 -0.355075 -0.149286 -0.392371  \n",
       "eia     -0.355075  1.000000  0.392169  0.463133  \n",
       "std     -0.149286  0.392169  1.000000  0.386574  \n",
       "new_dhd -0.392371  0.463133  0.386574  1.000000  "
      ]
     },
     "execution_count": 3,
     "metadata": {},
     "output_type": "execute_result"
    }
   ],
   "source": [
    "df.corr()"
   ]
  },
  {
   "cell_type": "code",
   "execution_count": 4,
   "metadata": {},
   "outputs": [
    {
     "name": "stdout",
     "output_type": "stream",
     "text": [
      "<class 'pandas.core.frame.DataFrame'>\n",
      "RangeIndex: 916 entries, 0 to 915\n",
      "Data columns (total 11 columns):\n",
      "age        916 non-null int64\n",
      "sex        916 non-null int64\n",
      "cp         916 non-null int64\n",
      "rbp        857 non-null float64\n",
      "scl        886 non-null float64\n",
      "fbs        827 non-null float64\n",
      "rer        914 non-null float64\n",
      "mhra       861 non-null float64\n",
      "eia        861 non-null float64\n",
      "std        854 non-null float64\n",
      "new_dhd    916 non-null int64\n",
      "dtypes: float64(7), int64(4)\n",
      "memory usage: 78.8 KB\n"
     ]
    }
   ],
   "source": [
    "df.info()"
   ]
  },
  {
   "cell_type": "markdown",
   "metadata": {},
   "source": [
    "### Needed to drop NaN values for train test split"
   ]
  },
  {
   "cell_type": "code",
   "execution_count": 5,
   "metadata": {},
   "outputs": [],
   "source": [
    "df=df.dropna(axis=0)"
   ]
  },
  {
   "cell_type": "code",
   "execution_count": 6,
   "metadata": {},
   "outputs": [
    {
     "name": "stdout",
     "output_type": "stream",
     "text": [
      "<class 'pandas.core.frame.DataFrame'>\n",
      "Int64Index: 737 entries, 0 to 915\n",
      "Data columns (total 11 columns):\n",
      "age        737 non-null int64\n",
      "sex        737 non-null int64\n",
      "cp         737 non-null int64\n",
      "rbp        737 non-null float64\n",
      "scl        737 non-null float64\n",
      "fbs        737 non-null float64\n",
      "rer        737 non-null float64\n",
      "mhra       737 non-null float64\n",
      "eia        737 non-null float64\n",
      "std        737 non-null float64\n",
      "new_dhd    737 non-null int64\n",
      "dtypes: float64(7), int64(4)\n",
      "memory usage: 69.1 KB\n"
     ]
    }
   ],
   "source": [
    "df.info()"
   ]
  },
  {
   "cell_type": "markdown",
   "metadata": {},
   "source": [
    "## Logistic Regression\n",
    "### 1. Defining the X and y variable\n",
    "### 2. Performing a train test split\n",
    "### 3. Initiating a Logistic Regression\n",
    "### 4. Fitting the values \n",
    "### 5. Predicting the y values using information from the X test set\n",
    "### 6. Evaluating using confusion matrix and classification report \n",
    "### 7. Plotting ROC Curve\n",
    "### 8. Computing AUC Test Score \n",
    "### 9. Computing test,training Mean Squared Error\n",
    "### 10. Printing log coefficients, standard errors and odds ratios"
   ]
  },
  {
   "cell_type": "code",
   "execution_count": 7,
   "metadata": {},
   "outputs": [],
   "source": [
    "#Setting up the Logistic Regress + Cross Validation + Classfication Report\n",
    "y=df.new_dhd"
   ]
  },
  {
   "cell_type": "code",
   "execution_count": 8,
   "metadata": {},
   "outputs": [],
   "source": [
    "X=df.drop(['new_dhd'], axis=1)"
   ]
  },
  {
   "cell_type": "code",
   "execution_count": 9,
   "metadata": {},
   "outputs": [],
   "source": [
    "X_train, X_test, y_train, y_test = train_test_split(X, y, test_size = 0.3, random_state=42)"
   ]
  },
  {
   "cell_type": "code",
   "execution_count": 10,
   "metadata": {},
   "outputs": [],
   "source": [
    "logreg = LogisticRegression()"
   ]
  },
  {
   "cell_type": "code",
   "execution_count": 11,
   "metadata": {},
   "outputs": [
    {
     "data": {
      "text/plain": [
       "LogisticRegression(C=1.0, class_weight=None, dual=False, fit_intercept=True,\n",
       "          intercept_scaling=1, max_iter=100, multi_class='ovr', n_jobs=1,\n",
       "          penalty='l2', random_state=None, solver='liblinear', tol=0.0001,\n",
       "          verbose=0, warm_start=False)"
      ]
     },
     "execution_count": 11,
     "metadata": {},
     "output_type": "execute_result"
    }
   ],
   "source": [
    "logreg.fit(X_train, y_train)"
   ]
  },
  {
   "cell_type": "code",
   "execution_count": 12,
   "metadata": {},
   "outputs": [],
   "source": [
    "y_pred = logreg.predict(X_test)"
   ]
  },
  {
   "cell_type": "code",
   "execution_count": 13,
   "metadata": {},
   "outputs": [
    {
     "name": "stdout",
     "output_type": "stream",
     "text": [
      "[[77 20]\n",
      " [26 99]]\n",
      "             precision    recall  f1-score   support\n",
      "\n",
      "          0       0.75      0.79      0.77        97\n",
      "          1       0.83      0.79      0.81       125\n",
      "\n",
      "avg / total       0.80      0.79      0.79       222\n",
      "\n"
     ]
    }
   ],
   "source": [
    "print(confusion_matrix(y_test, y_pred))\n",
    "print(classification_report(y_test, y_pred))"
   ]
  },
  {
   "cell_type": "code",
   "execution_count": 14,
   "metadata": {},
   "outputs": [
    {
     "data": {
      "image/png": "[encoded data removed]",
      "text/plain": [
       "<Figure size 432x288 with 1 Axes>"
      ]
     },
     "metadata": {},
     "output_type": "display_data"
    }
   ],
   "source": [
    "#Plotting ROC Curve\n",
    "# Import necessary modules\n",
    "from sklearn.metrics import roc_curve\n",
    "\n",
    "# Compute predicted probabilities: y_pred_prob\n",
    "y_pred_prob = logreg.predict_proba(X_test)[:,1]\n",
    "\n",
    "# Generate ROC curve values: fpr, tpr, thresholds\n",
    "fpr, tpr, thresholds = roc_curve(y_test, y_pred_prob)\n",
    "\n",
    "# Plot ROC curve\n",
    "plt.plot([0, 1], [0, 1], 'k--')\n",
    "plt.plot(fpr, tpr)\n",
    "plt.xlabel('False Positive Rate')\n",
    "plt.ylabel('True Positive Rate')\n",
    "plt.title('ROC Curve')\n",
    "plt.show()"
   ]
  },
  {
   "cell_type": "code",
   "execution_count": 15,
   "metadata": {},
   "outputs": [
    {
     "name": "stdout",
     "output_type": "stream",
     "text": [
      "AUC: 0.8738969072164948\n",
      "AUC scores computed using 5-fold cross-validation: [0.87086153 0.83098592 0.85433655 0.81671609 0.85137139]\n"
     ]
    }
   ],
   "source": [
    "# Import necessary modules\n",
    "from sklearn.metrics import roc_auc_score\n",
    "from sklearn.model_selection import cross_val_score\n",
    "\n",
    "# Compute predicted probabilities: y_pred_prob\n",
    "y_pred_prob = logreg.predict_proba(X_test)[:,1]\n",
    "\n",
    "# Compute and print AUC score\n",
    "print(\"AUC: {}\".format(roc_auc_score(y_test, y_pred_prob)))\n",
    "\n",
    "# Compute cross-validated AUC scores: cv_auc\n",
    "cv_auc = cross_val_score(logreg, X, y, cv=5, scoring='roc_auc')\n",
    "\n",
    "# Print list of AUC scores\n",
    "print(\"AUC scores computed using 5-fold cross-validation: {}\".format(cv_auc))"
   ]
  },
  {
   "cell_type": "code",
   "execution_count": 16,
   "metadata": {},
   "outputs": [
    {
     "name": "stdout",
     "output_type": "stream",
     "text": [
      "Mean squared error on the test set: \n",
      "0.2072072072072072\n",
      "Mean squared error on the training set: \n",
      "0.1883495145631068\n"
     ]
    }
   ],
   "source": [
    "from sklearn.metrics import mean_squared_error\n",
    "print (\"Mean squared error on the test set: \")\n",
    "print (mean_squared_error(y_test, logreg.predict(X_test)))\n",
    "print (\"Mean squared error on the training set: \")\n",
    "print (mean_squared_error(y_train, logreg.predict(X_train)))"
   ]
  },
  {
   "cell_type": "code",
   "execution_count": 17,
   "metadata": {},
   "outputs": [
    {
     "data": {
      "text/plain": [
       "array([[ 0.00262949,  1.10842865,  0.54240571,  0.00330186, -0.00247255,\n",
       "         0.40496289,  0.2774469 , -0.01950614,  1.19754824,  0.70192709]])"
      ]
     },
     "execution_count": 17,
     "metadata": {},
     "output_type": "execute_result"
    }
   ],
   "source": [
    "logreg.coef_"
   ]
  },
  {
   "cell_type": "code",
   "execution_count": 18,
   "metadata": {},
   "outputs": [
    {
     "name": "stdout",
     "output_type": "stream",
     "text": [
      "age      9.394365\n",
      "sex      0.424680\n",
      "cp       0.935351\n",
      "rbp     18.597110\n",
      "scl     93.694315\n",
      "fbs      0.356338\n",
      "rer      0.839239\n",
      "mhra    25.830005\n",
      "eia      0.489953\n",
      "std      1.084126\n",
      "dtype: float64\n"
     ]
    }
   ],
   "source": [
    "print(np.std(X))"
   ]
  },
  {
   "cell_type": "code",
   "execution_count": 19,
   "metadata": {},
   "outputs": [
    {
     "data": {
      "text/plain": [
       "array([[1.00263295, 3.02959411, 1.72014005, 1.00330732, 0.9975305 ,\n",
       "        1.49924686, 1.31975604, 0.98068287, 3.31198676, 2.01763714]])"
      ]
     },
     "execution_count": 19,
     "metadata": {},
     "output_type": "execute_result"
    }
   ],
   "source": [
    "np.exp(logreg.coef_)"
   ]
  },
  {
   "cell_type": "markdown",
   "metadata": {},
   "source": [
    "## Random Forest Model\n",
    "### 1. Initiating a RF \n",
    "### 2. Fitting the values \n",
    "### 3. Scoring the training and test data \n",
    "### 4. Computing test, training Mean Squared Error\n",
    "### 5. Computing Feature Importance"
   ]
  },
  {
   "cell_type": "code",
   "execution_count": 20,
   "metadata": {},
   "outputs": [],
   "source": [
    "## Random Forest Regressor ## "
   ]
  },
  {
   "cell_type": "code",
   "execution_count": 22,
   "metadata": {},
   "outputs": [
    {
     "name": "stdout",
     "output_type": "stream",
     "text": [
      "0.8799995475522577 0.2991208247422681\n",
      "Mean squared error on the test set: \n",
      "0.17243243243243245\n",
      "Mean squared error on the training set: \n",
      "0.030000000000000002\n"
     ]
    }
   ],
   "source": [
    "from sklearn.ensemble import RandomForestRegressor\n",
    "\n",
    "rf=RandomForestRegressor(random_state = 42)\n",
    "rf.fit(X_train, y_train)\n",
    "rf_train= rf.score(X_train, y_train)\n",
    "rf_test= rf.score(X_test, y_test)\n",
    "print(rf_train, rf_test)\n",
    "print (\"Mean squared error on the test set: \")\n",
    "print (mean_squared_error(y_test, rf.predict(X_test)))\n",
    "print (\"Mean squared error on the training set: \")\n",
    "print (mean_squared_error(y_train, rf.predict(X_train)))\n"
   ]
  },
  {
   "cell_type": "code",
   "execution_count": 24,
   "metadata": {},
   "outputs": [
    {
     "data": {
      "text/plain": [
       "array([0.13134107, 0.02196621, 0.09466233, 0.09548817, 0.16877651,\n",
       "       0.00975647, 0.02688943, 0.11850777, 0.25958769, 0.07302433])"
      ]
     },
     "execution_count": 24,
     "metadata": {},
     "output_type": "execute_result"
    }
   ],
   "source": [
    "rf.feature_importances_"
   ]
  },
  {
   "cell_type": "code",
   "execution_count": 27,
   "metadata": {},
   "outputs": [
    {
     "data": {
      "text/plain": [
       "Text(0,0.5,'Importance')"
      ]
     },
     "execution_count": 27,
     "metadata": {},
     "output_type": "execute_result"
    },
    {
     "data": {
      "image/png": "[encoded data removed]",
      "text/plain": [
       "<Figure size 432x288 with 1 Axes>"
      ]
     },
     "metadata": {},
     "output_type": "display_data"
    }
   ],
   "source": [
    "objects=('Age', 'Sex', 'CP', 'RBP', 'SCL', 'FBS', 'RER', 'MHRA', 'EIA', 'STD')\n",
    "x=[0.13134107, 0.02196621, 0.09466233, 0.09548817, 0.16877651,\n",
    "       0.00975647, 0.02688943, 0.11850777, 0.25958769, 0.07302433]\n",
    "plt.bar(np.arange(len(objects)), x, color='orange')\n",
    "plt.xticks(np.arange(len(objects)), objects)\n",
    "plt.title('Feature Importance Plot')\n",
    "plt.xlabel('Features')\n",
    "plt.ylabel('Importance')"
   ]
  },
  {
   "cell_type": "code",
   "execution_count": null,
   "metadata": {},
   "outputs": [],
   "source": []
  }
 ],
 "metadata": {
  "kernelspec": {
   "display_name": "Python 3",
   "language": "python",
   "name": "python3"
  },
  "language_info": {
   "codemirror_mode": {
    "name": "ipython",
    "version": 3
   },
   "file_extension": ".py",
   "mimetype": "text/x-python",
   "name": "python",
   "nbconvert_exporter": "python",
   "pygments_lexer": "ipython3",
   "version": "3.6.5"
  }
 },
 "nbformat": 4,
 "nbformat_minor": 2
}
