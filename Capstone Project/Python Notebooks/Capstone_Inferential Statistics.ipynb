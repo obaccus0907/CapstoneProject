{
 "cells": [
  {
   "cell_type": "code",
   "execution_count": 1,
   "metadata": {},
   "outputs": [],
   "source": [
    "#Importing Modules\n",
    "import pandas as pd\n",
    "import numpy as np\n",
    "import scipy.stats as stats"
   ]
  },
  {
   "cell_type": "code",
   "execution_count": 2,
   "metadata": {},
   "outputs": [],
   "source": [
    "df= pd.read_csv('data/dataset_caps.csv')"
   ]
  },
  {
   "cell_type": "code",
   "execution_count": 3,
   "metadata": {},
   "outputs": [
    {
     "data": {
      "text/html": [
       "<div>\n",
       "<style scoped>\n",
       "    .dataframe tbody tr th:only-of-type {\n",
       "        vertical-align: middle;\n",
       "    }\n",
       "\n",
       "    .dataframe tbody tr th {\n",
       "        vertical-align: top;\n",
       "    }\n",
       "\n",
       "    .dataframe thead th {\n",
       "        text-align: right;\n",
       "    }\n",
       "</style>\n",
       "<table border=\"1\" class=\"dataframe\">\n",
       "  <thead>\n",
       "    <tr style=\"text-align: right;\">\n",
       "      <th></th>\n",
       "      <th>age</th>\n",
       "      <th>sex</th>\n",
       "      <th>cp</th>\n",
       "      <th>rbp</th>\n",
       "      <th>scl</th>\n",
       "      <th>fbs</th>\n",
       "      <th>rer</th>\n",
       "      <th>mhra</th>\n",
       "      <th>eia</th>\n",
       "      <th>std</th>\n",
       "      <th>new_dhd</th>\n",
       "    </tr>\n",
       "  </thead>\n",
       "  <tbody>\n",
       "    <tr>\n",
       "      <th>0</th>\n",
       "      <td>67</td>\n",
       "      <td>1</td>\n",
       "      <td>4</td>\n",
       "      <td>160.0</td>\n",
       "      <td>286.0</td>\n",
       "      <td>0.0</td>\n",
       "      <td>2.0</td>\n",
       "      <td>108.0</td>\n",
       "      <td>1.0</td>\n",
       "      <td>1.5</td>\n",
       "      <td>1</td>\n",
       "    </tr>\n",
       "    <tr>\n",
       "      <th>1</th>\n",
       "      <td>67</td>\n",
       "      <td>1</td>\n",
       "      <td>4</td>\n",
       "      <td>120.0</td>\n",
       "      <td>229.0</td>\n",
       "      <td>0.0</td>\n",
       "      <td>2.0</td>\n",
       "      <td>129.0</td>\n",
       "      <td>1.0</td>\n",
       "      <td>2.6</td>\n",
       "      <td>1</td>\n",
       "    </tr>\n",
       "    <tr>\n",
       "      <th>2</th>\n",
       "      <td>37</td>\n",
       "      <td>1</td>\n",
       "      <td>3</td>\n",
       "      <td>130.0</td>\n",
       "      <td>250.0</td>\n",
       "      <td>0.0</td>\n",
       "      <td>0.0</td>\n",
       "      <td>187.0</td>\n",
       "      <td>0.0</td>\n",
       "      <td>3.5</td>\n",
       "      <td>0</td>\n",
       "    </tr>\n",
       "    <tr>\n",
       "      <th>3</th>\n",
       "      <td>41</td>\n",
       "      <td>0</td>\n",
       "      <td>2</td>\n",
       "      <td>130.0</td>\n",
       "      <td>204.0</td>\n",
       "      <td>0.0</td>\n",
       "      <td>2.0</td>\n",
       "      <td>172.0</td>\n",
       "      <td>0.0</td>\n",
       "      <td>1.4</td>\n",
       "      <td>0</td>\n",
       "    </tr>\n",
       "    <tr>\n",
       "      <th>4</th>\n",
       "      <td>56</td>\n",
       "      <td>1</td>\n",
       "      <td>2</td>\n",
       "      <td>120.0</td>\n",
       "      <td>236.0</td>\n",
       "      <td>0.0</td>\n",
       "      <td>0.0</td>\n",
       "      <td>178.0</td>\n",
       "      <td>0.0</td>\n",
       "      <td>0.8</td>\n",
       "      <td>0</td>\n",
       "    </tr>\n",
       "  </tbody>\n",
       "</table>\n",
       "</div>"
      ],
      "text/plain": [
       "   age  sex  cp    rbp    scl  fbs  rer   mhra  eia  std  new_dhd\n",
       "0   67    1   4  160.0  286.0  0.0  2.0  108.0  1.0  1.5        1\n",
       "1   67    1   4  120.0  229.0  0.0  2.0  129.0  1.0  2.6        1\n",
       "2   37    1   3  130.0  250.0  0.0  0.0  187.0  0.0  3.5        0\n",
       "3   41    0   2  130.0  204.0  0.0  2.0  172.0  0.0  1.4        0\n",
       "4   56    1   2  120.0  236.0  0.0  0.0  178.0  0.0  0.8        0"
      ]
     },
     "execution_count": 3,
     "metadata": {},
     "output_type": "execute_result"
    }
   ],
   "source": [
    "df.head()"
   ]
  },
  {
   "cell_type": "code",
   "execution_count": 4,
   "metadata": {},
   "outputs": [
    {
     "data": {
      "text/html": [
       "<div>\n",
       "<style scoped>\n",
       "    .dataframe tbody tr th:only-of-type {\n",
       "        vertical-align: middle;\n",
       "    }\n",
       "\n",
       "    .dataframe tbody tr th {\n",
       "        vertical-align: top;\n",
       "    }\n",
       "\n",
       "    .dataframe thead th {\n",
       "        text-align: right;\n",
       "    }\n",
       "</style>\n",
       "<table border=\"1\" class=\"dataframe\">\n",
       "  <thead>\n",
       "    <tr style=\"text-align: right;\">\n",
       "      <th></th>\n",
       "      <th>age</th>\n",
       "      <th>sex</th>\n",
       "      <th>cp</th>\n",
       "      <th>rbp</th>\n",
       "      <th>scl</th>\n",
       "      <th>fbs</th>\n",
       "      <th>rer</th>\n",
       "      <th>mhra</th>\n",
       "      <th>eia</th>\n",
       "      <th>std</th>\n",
       "      <th>new_dhd</th>\n",
       "    </tr>\n",
       "  </thead>\n",
       "  <tbody>\n",
       "    <tr>\n",
       "      <th>911</th>\n",
       "      <td>54</td>\n",
       "      <td>0</td>\n",
       "      <td>4</td>\n",
       "      <td>127.0</td>\n",
       "      <td>333.0</td>\n",
       "      <td>1.0</td>\n",
       "      <td>1.0</td>\n",
       "      <td>154.0</td>\n",
       "      <td>0.0</td>\n",
       "      <td>0.0</td>\n",
       "      <td>1</td>\n",
       "    </tr>\n",
       "    <tr>\n",
       "      <th>912</th>\n",
       "      <td>62</td>\n",
       "      <td>1</td>\n",
       "      <td>1</td>\n",
       "      <td>NaN</td>\n",
       "      <td>139.0</td>\n",
       "      <td>0.0</td>\n",
       "      <td>1.0</td>\n",
       "      <td>NaN</td>\n",
       "      <td>NaN</td>\n",
       "      <td>NaN</td>\n",
       "      <td>0</td>\n",
       "    </tr>\n",
       "    <tr>\n",
       "      <th>913</th>\n",
       "      <td>55</td>\n",
       "      <td>1</td>\n",
       "      <td>4</td>\n",
       "      <td>122.0</td>\n",
       "      <td>223.0</td>\n",
       "      <td>1.0</td>\n",
       "      <td>1.0</td>\n",
       "      <td>100.0</td>\n",
       "      <td>0.0</td>\n",
       "      <td>0.0</td>\n",
       "      <td>1</td>\n",
       "    </tr>\n",
       "    <tr>\n",
       "      <th>914</th>\n",
       "      <td>58</td>\n",
       "      <td>1</td>\n",
       "      <td>4</td>\n",
       "      <td>NaN</td>\n",
       "      <td>385.0</td>\n",
       "      <td>1.0</td>\n",
       "      <td>2.0</td>\n",
       "      <td>NaN</td>\n",
       "      <td>NaN</td>\n",
       "      <td>NaN</td>\n",
       "      <td>0</td>\n",
       "    </tr>\n",
       "    <tr>\n",
       "      <th>915</th>\n",
       "      <td>62</td>\n",
       "      <td>1</td>\n",
       "      <td>2</td>\n",
       "      <td>120.0</td>\n",
       "      <td>254.0</td>\n",
       "      <td>0.0</td>\n",
       "      <td>2.0</td>\n",
       "      <td>93.0</td>\n",
       "      <td>1.0</td>\n",
       "      <td>0.0</td>\n",
       "      <td>1</td>\n",
       "    </tr>\n",
       "  </tbody>\n",
       "</table>\n",
       "</div>"
      ],
      "text/plain": [
       "     age  sex  cp    rbp    scl  fbs  rer   mhra  eia  std  new_dhd\n",
       "911   54    0   4  127.0  333.0  1.0  1.0  154.0  0.0  0.0        1\n",
       "912   62    1   1    NaN  139.0  0.0  1.0    NaN  NaN  NaN        0\n",
       "913   55    1   4  122.0  223.0  1.0  1.0  100.0  0.0  0.0        1\n",
       "914   58    1   4    NaN  385.0  1.0  2.0    NaN  NaN  NaN        0\n",
       "915   62    1   2  120.0  254.0  0.0  2.0   93.0  1.0  0.0        1"
      ]
     },
     "execution_count": 4,
     "metadata": {},
     "output_type": "execute_result"
    }
   ],
   "source": [
    "df.tail()"
   ]
  },
  {
   "cell_type": "code",
   "execution_count": 5,
   "metadata": {},
   "outputs": [
    {
     "data": {
      "text/html": [
       "<div>\n",
       "<style scoped>\n",
       "    .dataframe tbody tr th:only-of-type {\n",
       "        vertical-align: middle;\n",
       "    }\n",
       "\n",
       "    .dataframe tbody tr th {\n",
       "        vertical-align: top;\n",
       "    }\n",
       "\n",
       "    .dataframe thead th {\n",
       "        text-align: right;\n",
       "    }\n",
       "</style>\n",
       "<table border=\"1\" class=\"dataframe\">\n",
       "  <thead>\n",
       "    <tr style=\"text-align: right;\">\n",
       "      <th></th>\n",
       "      <th>age</th>\n",
       "      <th>sex</th>\n",
       "      <th>cp</th>\n",
       "      <th>rbp</th>\n",
       "      <th>scl</th>\n",
       "      <th>fbs</th>\n",
       "      <th>rer</th>\n",
       "      <th>mhra</th>\n",
       "      <th>eia</th>\n",
       "      <th>std</th>\n",
       "    </tr>\n",
       "    <tr>\n",
       "      <th>new_dhd</th>\n",
       "      <th></th>\n",
       "      <th></th>\n",
       "      <th></th>\n",
       "      <th></th>\n",
       "      <th></th>\n",
       "      <th></th>\n",
       "      <th></th>\n",
       "      <th></th>\n",
       "      <th></th>\n",
       "      <th></th>\n",
       "    </tr>\n",
       "  </thead>\n",
       "  <tbody>\n",
       "    <tr>\n",
       "      <th>0</th>\n",
       "      <td>50.542787</td>\n",
       "      <td>0.647922</td>\n",
       "      <td>2.767726</td>\n",
       "      <td>129.848329</td>\n",
       "      <td>227.735897</td>\n",
       "      <td>0.108861</td>\n",
       "      <td>0.545232</td>\n",
       "      <td>148.737789</td>\n",
       "      <td>0.141388</td>\n",
       "      <td>0.414433</td>\n",
       "    </tr>\n",
       "    <tr>\n",
       "      <th>1</th>\n",
       "      <td>55.936884</td>\n",
       "      <td>0.901381</td>\n",
       "      <td>3.648915</td>\n",
       "      <td>134.049145</td>\n",
       "      <td>176.667339</td>\n",
       "      <td>0.217593</td>\n",
       "      <td>0.651485</td>\n",
       "      <td>128.298729</td>\n",
       "      <td>0.595339</td>\n",
       "      <td>1.260086</td>\n",
       "    </tr>\n",
       "  </tbody>\n",
       "</table>\n",
       "</div>"
      ],
      "text/plain": [
       "               age       sex        cp         rbp         scl       fbs  \\\n",
       "new_dhd                                                                    \n",
       "0        50.542787  0.647922  2.767726  129.848329  227.735897  0.108861   \n",
       "1        55.936884  0.901381  3.648915  134.049145  176.667339  0.217593   \n",
       "\n",
       "              rer        mhra       eia       std  \n",
       "new_dhd                                            \n",
       "0        0.545232  148.737789  0.141388  0.414433  \n",
       "1        0.651485  128.298729  0.595339  1.260086  "
      ]
     },
     "execution_count": 5,
     "metadata": {},
     "output_type": "execute_result"
    }
   ],
   "source": [
    "df.groupby('new_dhd').mean()"
   ]
  },
  {
   "cell_type": "code",
   "execution_count": 6,
   "metadata": {},
   "outputs": [
    {
     "name": "stdout",
     "output_type": "stream",
     "text": [
      "There's approximately an 80:20 male:female ratio in this dataset\n",
      "1    0.78821\n",
      "0    0.21179\n",
      "Name: sex, dtype: float64\n"
     ]
    }
   ],
   "source": [
    "#Gender Split\n",
    "gender_s= df.sex.value_counts() / len(df)\n",
    "print (\"There's approximately an 80:20 male:female ratio in this dataset\")\n",
    "print (gender_s)"
   ]
  },
  {
   "cell_type": "code",
   "execution_count": 7,
   "metadata": {},
   "outputs": [
    {
     "name": "stdout",
     "output_type": "stream",
     "text": [
      "Approximately 55% of patients have a presence of blockage in one of their major coronary heart vessels\n",
      "1    0.553493\n",
      "0    0.446507\n",
      "Name: new_dhd, dtype: float64\n"
     ]
    }
   ],
   "source": [
    "#Coronary Heart Blockage %\n",
    "dhd_p= df.new_dhd.value_counts() / len(df)\n",
    "print ('Approximately 55% of patients have a presence of blockage in one of their major coronary heart vessels')\n",
    "print (dhd_p)"
   ]
  },
  {
   "cell_type": "code",
   "execution_count": 8,
   "metadata": {},
   "outputs": [
    {
     "name": "stdout",
     "output_type": "stream",
     "text": [
      "Mean resting blood pressure of patient is  132.14235705950992\n"
     ]
    }
   ],
   "source": [
    "#Mean resting blood pressure of patients\n",
    "rbp_m=df.rbp.mean()\n",
    "print ('Mean resting blood pressure of patient is ',rbp_m)"
   ]
  },
  {
   "cell_type": "code",
   "execution_count": 10,
   "metadata": {},
   "outputs": [
    {
     "name": "stdout",
     "output_type": "stream",
     "text": [
      "Mean scl of patient is  199.14672686230247\n"
     ]
    }
   ],
   "source": [
    "scl_m=df.scl.mean()\n",
    "print ('Mean scl of patient is ',scl_m)"
   ]
  },
  {
   "cell_type": "code",
   "execution_count": 11,
   "metadata": {},
   "outputs": [],
   "source": [
    "#Slicing dataset for above and below average blood pressure patients (>135)\n",
    "high_rbp = df[(df['rbp'] >= 135)]\n",
    "low_rbp = df[(df['rbp'] < 135)]"
   ]
  },
  {
   "cell_type": "code",
   "execution_count": 12,
   "metadata": {},
   "outputs": [
    {
     "name": "stdout",
     "output_type": "stream",
     "text": [
      "Approximately 61% of patients with high rbp have a blocked major coronary vessel\n",
      "1    0.616046\n",
      "0    0.383954\n",
      "Name: new_dhd, dtype: float64\n"
     ]
    }
   ],
   "source": [
    "#Coronary Heart Blockage % for above avg\n",
    "dhd_b= high_rbp.new_dhd.value_counts() / len(high_rbp)\n",
    "print ('Approximately 61% of patients with high rbp have a blocked major coronary vessel')\n",
    "print (dhd_b)"
   ]
  },
  {
   "cell_type": "code",
   "execution_count": 13,
   "metadata": {},
   "outputs": [
    {
     "name": "stdout",
     "output_type": "stream",
     "text": [
      "Approximately 50% of patients with low rbp have a blocked major coronary vessel, and the distribution is fairly equal\n",
      "0    0.501969\n",
      "1    0.498031\n",
      "Name: new_dhd, dtype: float64\n"
     ]
    }
   ],
   "source": [
    "#Coronary Heart Blockage % for below avg\n",
    "dhd_l= low_rbp.new_dhd.value_counts() / len(low_rbp)\n",
    "print ('Approximately 50% of patients with low rbp have a blocked major coronary vessel, and the distribution is fairly equal')\n",
    "print (dhd_l)"
   ]
  },
  {
   "cell_type": "code",
   "execution_count": 14,
   "metadata": {},
   "outputs": [
    {
     "name": "stdout",
     "output_type": "stream",
     "text": [
      "The t statistic and p value are as follows  Ttest_indResult(statistic=3.428704762461102, pvalue=0.000635463898843048)\n",
      "p value returned is extremely small\n",
      "We can reject the null hypothesis that mean of both groups are the same\n"
     ]
    }
   ],
   "source": [
    "#Testing the null hypothesis that the mean of patients with blocked coronary vessels are the same for high rbp and low rbp\n",
    "test1= stats.ttest_ind(high_rbp.new_dhd,low_rbp.new_dhd)\n",
    "print ('The t statistic and p value are as follows ', test1)\n",
    "print ('p value returned is extremely small')\n",
    "print ('We can reject the null hypothesis that mean of both groups are the same')"
   ]
  },
  {
   "cell_type": "code",
   "execution_count": 15,
   "metadata": {},
   "outputs": [],
   "source": [
    "#Slicing the dataset by electrocardiographic results \n",
    "normal = df[(df['rer'] == 0)]\n",
    "abnormal = df[(df['rer'] != 0)]"
   ]
  },
  {
   "cell_type": "code",
   "execution_count": 16,
   "metadata": {},
   "outputs": [
    {
     "name": "stdout",
     "output_type": "stream",
     "text": [
      "The t statistic and p value are as follows  Ttest_indResult(statistic=-2.9770516650884775, pvalue=0.0029871146239550065)\n",
      "p value returned is fairly small\n",
      "We can reject the null hypothesis that mean of both groups are the same, although they are close\n"
     ]
    }
   ],
   "source": [
    "#Testing the null hypothesis that the mean of patients with blocked coronary vessels are the same for normal and abnormal rer\n",
    "test1= stats.ttest_ind(normal.new_dhd,abnormal.new_dhd)\n",
    "print ('The t statistic and p value are as follows ', test1)\n",
    "print ('p value returned is fairly small')\n",
    "print ('We can reject the null hypothesis that mean of both groups are the same, although they are close')"
   ]
  },
  {
   "cell_type": "code",
   "execution_count": 17,
   "metadata": {},
   "outputs": [],
   "source": [
    "#Slicing the dataset by gender\n",
    "male = df[(df['sex'] == 1)]\n",
    "female = df[(df['sex'] != 1)]"
   ]
  },
  {
   "cell_type": "code",
   "execution_count": 18,
   "metadata": {},
   "outputs": [
    {
     "name": "stdout",
     "output_type": "stream",
     "text": [
      "The t statistic and p value are as follows  Ttest_indResult(statistic=9.801170700391797, pvalue=1.2388510565148495e-21)\n",
      "p value returned is extremely small\n",
      "We can reject the null hypothesis that mean of both groups are the same\n"
     ]
    }
   ],
   "source": [
    "#Testing the null hypothesis that the mean of patients with blocked coronary vessels are the same for male and female\n",
    "test1= stats.ttest_ind(male.new_dhd,female.new_dhd)\n",
    "print ('The t statistic and p value are as follows ', test1)\n",
    "print ('p value returned is extremely small')\n",
    "print ('We can reject the null hypothesis that mean of both groups are the same')"
   ]
  },
  {
   "cell_type": "code",
   "execution_count": 19,
   "metadata": {},
   "outputs": [
    {
     "name": "stdout",
     "output_type": "stream",
     "text": [
      "The t statistic and p value are as follows  Ttest_indResult(statistic=4.2310090982877755, pvalue=2.577756147698569e-05)\n",
      "p value returned is extremely small\n",
      "We can reject the null hypothesis that mean of both groups are the same\n"
     ]
    }
   ],
   "source": [
    "#Testing the null hypothesis that the mean of patients with exercise induced angina are the same for high rbp and low rbp\n",
    "test2= stats.ttest_ind(high_rbp.eia,low_rbp.eia)\n",
    "print ('The t statistic and p value are as follows ', test2)\n",
    "print ('p value returned is extremely small')\n",
    "print ('We can reject the null hypothesis that mean of both groups are the same')"
   ]
  },
  {
   "cell_type": "code",
   "execution_count": null,
   "metadata": {},
   "outputs": [],
   "source": []
  }
 ],
 "metadata": {
  "kernelspec": {
   "display_name": "Python 3",
   "language": "python",
   "name": "python3"
  },
  "language_info": {
   "codemirror_mode": {
    "name": "ipython",
    "version": 3
   },
   "file_extension": ".py",
   "mimetype": "text/x-python",
   "name": "python",
   "nbconvert_exporter": "python",
   "pygments_lexer": "ipython3",
   "version": "3.6.5"
  }
 },
 "nbformat": 4,
 "nbformat_minor": 2
}
